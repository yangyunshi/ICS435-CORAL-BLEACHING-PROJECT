{
 "cells": [
  {
   "cell_type": "code",
   "execution_count": 56,
   "id": "dcae42e3-c7d9-49e9-957d-cead32c64c3f",
   "metadata": {},
   "outputs": [],
   "source": [
    "# The output here might be different from what's shown in the report because I restarted the kernel and ran it again."
   ]
  },
  {
   "cell_type": "code",
   "execution_count": 1,
   "id": "30ffba7c-f0bd-49cf-8d97-f44e7020c394",
   "metadata": {},
   "outputs": [
    {
     "data": {
      "application/vnd.jupyter.widget-view+json": {
       "model_id": "29b154c86b914fd398e17b710cd78f99",
       "version_major": 2,
       "version_minor": 0
      },
      "text/plain": [
       "Fetching 10422 files:   0%|          | 0/10422 [00:00<?, ?it/s]"
      ]
     },
     "metadata": {},
     "output_type": "display_data"
    },
    {
     "data": {
      "application/vnd.jupyter.widget-view+json": {
       "model_id": "2428f31480474f40a7b976cb50eb59f9",
       "version_major": 2,
       "version_minor": 0
      },
      "text/plain": [
       "Resolving data files:   0%|          | 0/7292 [00:00<?, ?it/s]"
      ]
     },
     "metadata": {},
     "output_type": "display_data"
    },
    {
     "data": {
      "application/vnd.jupyter.widget-view+json": {
       "model_id": "c0b61fd177f74ec0a94c01fb2469c273",
       "version_major": 2,
       "version_minor": 0
      },
      "text/plain": [
       "Resolving data files:   0%|          | 0/1562 [00:00<?, ?it/s]"
      ]
     },
     "metadata": {},
     "output_type": "display_data"
    },
    {
     "data": {
      "application/vnd.jupyter.widget-view+json": {
       "model_id": "f033ec9bdfb843189bb10b05d2b6f67f",
       "version_major": 2,
       "version_minor": 0
      },
      "text/plain": [
       "Resolving data files:   0%|          | 0/1565 [00:00<?, ?it/s]"
      ]
     },
     "metadata": {},
     "output_type": "display_data"
    },
    {
     "data": {
      "text/plain": [
       "DatasetDict({\n",
       "    train: Dataset({\n",
       "        features: ['image', 'label'],\n",
       "        num_rows: 7292\n",
       "    })\n",
       "    validation: Dataset({\n",
       "        features: ['image', 'label'],\n",
       "        num_rows: 1562\n",
       "    })\n",
       "    test: Dataset({\n",
       "        features: ['image', 'label'],\n",
       "        num_rows: 1565\n",
       "    })\n",
       "})"
      ]
     },
     "execution_count": 1,
     "metadata": {},
     "output_type": "execute_result"
    }
   ],
   "source": [
    "# Load the images\n",
    "\n",
    "from huggingface_hub import snapshot_download\n",
    "from datasets import load_dataset\n",
    "from huggingface_hub import login\n",
    "\n",
    "local_dir = snapshot_download(repo_id=\"akridge/NOAA-ESD-CORAL-Bleaching-Dataset\", repo_type=\"dataset\")\n",
    "dataset = load_dataset(\"imagefolder\", data_dir=local_dir)\n",
    "dataset"
   ]
  },
  {
   "cell_type": "code",
   "execution_count": 2,
   "id": "506d9b0f-3973-4523-b463-57d835df7eb4",
   "metadata": {},
   "outputs": [],
   "source": [
    "# Prepare the training set\n",
    "\n",
    "x_train = []\n",
    "y_train = []\n",
    "\n",
    "for i in range(7292):\n",
    "    x_train.append(dataset[\"train\"][i][\"image\"])\n",
    "    y_train.append(dataset[\"train\"][i][\"label\"])"
   ]
  },
  {
   "cell_type": "code",
   "execution_count": 3,
   "id": "3fa8a3a3-2421-498e-b563-27c49aa32dd0",
   "metadata": {},
   "outputs": [],
   "source": [
    "# Prepare the validation set\n",
    "\n",
    "x_valid = []\n",
    "y_valid = []\n",
    "\n",
    "for i in range(1562):\n",
    "    x_valid.append(dataset[\"validation\"][i][\"image\"])\n",
    "    y_valid.append(dataset[\"validation\"][i][\"label\"])"
   ]
  },
  {
   "cell_type": "code",
   "execution_count": 4,
   "id": "8bce59cf-60a8-4bc6-a848-cde072b272a1",
   "metadata": {},
   "outputs": [],
   "source": [
    "# Apply clahe to the training set\n",
    "\n",
    "import cv2\n",
    "import numpy as np\n",
    "import matplotlib.pyplot as plt\n",
    "\n",
    "\n",
    "new_x_train = []\n",
    "\n",
    "def apply_clahe(image):\n",
    "    image = cv2.cvtColor(image, cv2.COLOR_RGB2BGR)\n",
    "    image_yuv = cv2.cvtColor(image, cv2.COLOR_BGR2YUV)\n",
    "    clahe = cv2.createCLAHE(clipLimit=2.0, tileGridSize=(8,8))\n",
    "    image_yuv[:,:,0] = clahe.apply(image_yuv[:,:,0])\n",
    "    result = cv2.cvtColor(image_yuv, cv2.COLOR_YUV2BGR)\n",
    "    result = cv2.cvtColor(result, cv2.COLOR_BGR2RGB)\n",
    "    return result\n",
    "\n",
    "for image in x_train:\n",
    "    image = np.array(image)\n",
    "    the_image = apply_clahe(image)\n",
    "    new_x_train.append(the_image)\n",
    "\n"
   ]
  },
  {
   "cell_type": "code",
   "execution_count": 5,
   "id": "d47c80a8-9c70-4f0e-95f5-575da1439dfc",
   "metadata": {},
   "outputs": [],
   "source": [
    "# Apply clahe to the validation set\n",
    "\n",
    "new_x_valid = []\n",
    "\n",
    "def apply_clahe(image):\n",
    "    image = cv2.cvtColor(image, cv2.COLOR_RGB2BGR)\n",
    "    image_yuv = cv2.cvtColor(image, cv2.COLOR_BGR2YUV)\n",
    "    clahe = cv2.createCLAHE(clipLimit=2.0, tileGridSize=(8,8))\n",
    "    image_yuv[:,:,0] = clahe.apply(image_yuv[:,:,0])\n",
    "    result = cv2.cvtColor(image_yuv, cv2.COLOR_YUV2BGR)\n",
    "    result = cv2.cvtColor(result, cv2.COLOR_BGR2RGB)\n",
    "    return result\n",
    "\n",
    "for image in x_valid:\n",
    "    image = np.array(image)\n",
    "    the_image = apply_clahe(image)\n",
    "    new_x_valid.append(the_image)"
   ]
  },
  {
   "cell_type": "code",
   "execution_count": 6,
   "id": "67e4952f-0774-45e1-bf68-7148fc092127",
   "metadata": {},
   "outputs": [],
   "source": [
    "# Split images, apply NDBI, and recombine them (training set)\n",
    "\n",
    "import numpy as np\n",
    "\n",
    "whole_image_list = []\n",
    "\n",
    "for image in new_x_train:\n",
    "    image = np.array(image)\n",
    "    h, w, _ = image.shape\n",
    "    mid_h, mid_w = h // 2, w // 2\n",
    "    top_left = image[0:mid_h, 0:mid_w]\n",
    "    top_right = image[0:mid_h, mid_w:w]\n",
    "    bottom_left = image[mid_h:h, 0:mid_w]\n",
    "    bottom_right = image[mid_h:h, mid_w:w]\n",
    "    whole_image = [top_left, top_right, bottom_left, bottom_right]\n",
    "    whole_image_list.append(whole_image)\n",
    "\n",
    "\n",
    "\n",
    "NDBI_list = []\n",
    "whole_NDBI_list = []\n",
    "\n",
    "for image in whole_image_list:\n",
    "    NDBI_list = []\n",
    "    for quadrant in image:\n",
    "        quadrant = quadrant / 255.0\n",
    "        Red = quadrant[:,:,0]\n",
    "        Green = quadrant[:,:,1]\n",
    "        Blue = quadrant[:,:,2]\n",
    "        NDBI = (Red - Blue) / (Red + Blue + 1e-6)\n",
    "        NDBI = np.clip(NDBI, -1, 1)\n",
    "        NDBI_list.append(NDBI)\n",
    "    whole_NDBI_list.append(NDBI_list)\n",
    "\n",
    "\n",
    "\n",
    "recombined_images = []\n",
    "i = 0\n",
    "\n",
    "for result in whole_NDBI_list:\n",
    "    top_left = result[0]\n",
    "    top_right = result[1]\n",
    "    bottom_left = result[2]\n",
    "    bottom_right = result[3]\n",
    "    top = np.hstack((top_left, top_right))\n",
    "    bottom = np.hstack((bottom_left, bottom_right))\n",
    "    merged_image = np.vstack((top, bottom))\n",
    "    recombined_images.append(merged_image)\n"
   ]
  },
  {
   "cell_type": "code",
   "execution_count": 7,
   "id": "87801737-b2c4-4cc4-939c-2226296ee66e",
   "metadata": {},
   "outputs": [],
   "source": [
    "# Split images, apply NDBI, and recombine them (validation set)\n",
    "\n",
    "import numpy as np\n",
    "\n",
    "whole_image_list_valid = []\n",
    "\n",
    "for image in new_x_valid:\n",
    "    image = np.array(image)\n",
    "    h, w, _ = image.shape\n",
    "    mid_h, mid_w = h // 2, w // 2\n",
    "    top_left = image[0:mid_h, 0:mid_w]\n",
    "    top_right = image[0:mid_h, mid_w:w]\n",
    "    bottom_left = image[mid_h:h, 0:mid_w]\n",
    "    bottom_right = image[mid_h:h, mid_w:w]\n",
    "    whole_image = [top_left, top_right, bottom_left, bottom_right]\n",
    "    whole_image_list_valid.append(whole_image)\n",
    "\n",
    "\n",
    "NDBI_list_valid = []\n",
    "whole_NDBI_list_valid = []\n",
    "\n",
    "for image in whole_image_list_valid:\n",
    "    NDBI_list_valid = []\n",
    "    for quadrant in image:\n",
    "        quadrant = quadrant / 255.0\n",
    "        Red = quadrant[:,:,0]\n",
    "        Green = quadrant[:,:,1]\n",
    "        Blue = quadrant[:,:,2]\n",
    "        NDBI = (Red - Blue) / (Red + Blue + 1e-6)\n",
    "        NDBI = np.clip(NDBI, -1, 1)\n",
    "        NDBI_list_valid.append(NDBI)\n",
    "    whole_NDBI_list_valid.append(NDBI_list_valid)\n",
    "\n",
    "\n",
    "recombined_images_valid = []\n",
    "i = 0\n",
    "\n",
    "for result in whole_NDBI_list_valid:\n",
    "    top_left = result[0]\n",
    "    top_right = result[1]\n",
    "    bottom_left = result[2]\n",
    "    bottom_right = result[3]\n",
    "    top = np.hstack((top_left, top_right))\n",
    "    bottom = np.hstack((bottom_left, bottom_right))\n",
    "    merged_image = np.vstack((top, bottom))\n",
    "    recombined_images_valid.append(merged_image)"
   ]
  },
  {
   "cell_type": "code",
   "execution_count": 8,
   "id": "1ab79e74-f0eb-42aa-bfb1-07f212e6e5ef",
   "metadata": {},
   "outputs": [],
   "source": [
    "# Apply KMeans clustering to the training set\n",
    "\n",
    "from sklearn.cluster import KMeans\n",
    "\n",
    "KMeans_label_list = []\n",
    "\n",
    "for image in recombined_images:\n",
    "    image_flat = image.reshape((-1, 1))\n",
    "    kmeans = KMeans(n_clusters=6, random_state=0, n_init='auto')\n",
    "    labels = kmeans.fit_predict(image_flat)\n",
    "    labels = labels.reshape(image.shape)\n",
    "    # Instead of normalizing labels, map back to cluster centers\n",
    "    cluster_centers = kmeans.cluster_centers_.flatten()\n",
    "    clustered_img = np.take(cluster_centers, labels)\n",
    "    # Normalize clustered image\n",
    "    clustered_img = clustered_img - np.min(clustered_img)\n",
    "    clustered_img = clustered_img / (np.max(clustered_img) + 1e-7)\n",
    "    KMeans_label_list.append(clustered_img)"
   ]
  },
  {
   "cell_type": "code",
   "execution_count": 9,
   "id": "cf8a196d-c22f-466c-b948-902bea109d71",
   "metadata": {},
   "outputs": [],
   "source": [
    "# Apply KMeans clustering to the validation set\n",
    "\n",
    "from sklearn.cluster import KMeans\n",
    "\n",
    "KMeans_label_list_valid = []\n",
    "\n",
    "for image in recombined_images_valid:\n",
    "    image_flat = image.reshape((-1, 1))\n",
    "    kmeans = KMeans(n_clusters=6, random_state=0, n_init='auto')\n",
    "    labels = kmeans.fit_predict(image_flat)\n",
    "    labels = labels.reshape(image.shape)\n",
    "    cluster_centers = kmeans.cluster_centers_.flatten()\n",
    "    clustered_img = np.take(cluster_centers, labels)\n",
    "    clustered_img = clustered_img - np.min(clustered_img)\n",
    "    clustered_img = clustered_img / (np.max(clustered_img) + 1e-7)\n",
    "    KMeans_label_list_valid.append(clustered_img)"
   ]
  },
  {
   "cell_type": "code",
   "execution_count": 10,
   "id": "04f3d2ed-5f38-4b96-b903-8b7e38c7da0a",
   "metadata": {},
   "outputs": [],
   "source": [
    "# Apply Gaussian Blur to both training and validation sets (for smoothing)\n",
    "\n",
    "import cv2\n",
    "KMeans_label_list = [cv2.GaussianBlur(img, (5, 5), 0.5) for img in KMeans_label_list]\n",
    "KMeans_label_list_valid = [cv2.GaussianBlur(img, (5, 5), 0.5) for img in KMeans_label_list_valid]"
   ]
  },
  {
   "cell_type": "code",
   "execution_count": 11,
   "id": "8eb13129-dbee-418a-bae2-6fe8362ae88e",
   "metadata": {},
   "outputs": [
    {
     "name": "stdout",
     "output_type": "stream",
     "text": [
      "(7292, 224, 224, 2)\n"
     ]
    }
   ],
   "source": [
    "# Concatenate recombined images and KMeans label arrays (training set)\n",
    "\n",
    "recombined_images_orig = np.expand_dims(recombined_images, axis=-1)\n",
    "\n",
    "recombined_images_kmeans = np.expand_dims(KMeans_label_list, axis=-1)\n",
    "\n",
    "recombined_images_orig = recombined_images_orig.astype('float32')\n",
    "\n",
    "recombined_images_orig = (recombined_images_orig + 1) / 2.0\n",
    "\n",
    "recombined_images_kmeans = recombined_images_kmeans.astype('float32')\n",
    "\n",
    "combined_input = np.concatenate([recombined_images_orig, recombined_images_kmeans], axis=-1)\n",
    "\n",
    "labels_train = np.array(y_train).astype('float32')\n",
    "labels_valid = np.array(y_valid).astype('float32')\n"
   ]
  },
  {
   "cell_type": "code",
   "execution_count": 12,
   "id": "250075c4-6fc0-4d13-a852-c02db14e4692",
   "metadata": {},
   "outputs": [
    {
     "name": "stdout",
     "output_type": "stream",
     "text": [
      "(1562, 224, 224, 2)\n"
     ]
    }
   ],
   "source": [
    "# Concatenate recombined images and KMeans label arrays (validation set)\n",
    "\n",
    "recombined_images_orig_valid = np.expand_dims(recombined_images_valid, axis=-1)\n",
    "\n",
    "recombined_images_kmeans_valid = np.expand_dims(KMeans_label_list_valid, axis=-1)\n",
    "\n",
    "recombined_images_orig_valid = recombined_images_orig_valid.astype('float32')\n",
    "\n",
    "recombined_images_orig_valid = (recombined_images_orig_valid + 1) / 2.0\n",
    "\n",
    "recombined_images_kmeans_valid = recombined_images_kmeans_valid.astype('float32')\n",
    "\n",
    "combined_input_valid = np.concatenate([recombined_images_orig_valid, recombined_images_kmeans_valid], axis=-1)\n"
   ]
  },
  {
   "cell_type": "code",
   "execution_count": 13,
   "id": "e48cca43-e7d1-44fe-b452-1f43359240f4",
   "metadata": {},
   "outputs": [],
   "source": [
    "# Apply data augmentation\n",
    "\n",
    "import tensorflow as tf\n",
    "\n",
    "def augment_image(image, label):\n",
    "    # Apply augmentations\n",
    "    image = tf.image.random_flip_left_right(image)\n",
    "    image = tf.image.resize_with_crop_or_pad(image, 230, 230)\n",
    "    image = tf.image.random_crop(image, size=[224, 224, 2])\n",
    "\n",
    "    return image, label\n",
    "\n",
    "def normalize_fn(image, label):\n",
    "    return image, label\n"
   ]
  },
  {
   "cell_type": "code",
   "execution_count": 14,
   "id": "7838624b-61e7-4c81-8788-385ad8407c51",
   "metadata": {},
   "outputs": [
    {
     "name": "stderr",
     "output_type": "stream",
     "text": [
      "2025-04-29 14:02:59.437674: I metal_plugin/src/device/metal_device.cc:1154] Metal device set to: Apple M2\n",
      "2025-04-29 14:02:59.437751: I metal_plugin/src/device/metal_device.cc:296] systemMemory: 16.00 GB\n",
      "2025-04-29 14:02:59.438270: I metal_plugin/src/device/metal_device.cc:313] maxCacheSize: 5.33 GB\n",
      "2025-04-29 14:02:59.439259: I tensorflow/core/common_runtime/pluggable_device/pluggable_device_factory.cc:305] Could not identify NUMA node of platform GPU ID 0, defaulting to 0. Your kernel may not have been built with NUMA support.\n",
      "2025-04-29 14:02:59.439286: I tensorflow/core/common_runtime/pluggable_device/pluggable_device_factory.cc:271] Created TensorFlow device (/job:localhost/replica:0/task:0/device:GPU:0 with 0 MB memory) -> physical PluggableDevice (device: 0, name: METAL, pci bus id: <undefined>)\n"
     ]
    }
   ],
   "source": [
    "# Prepare datasets for CNN input (training and validation)\n",
    "\n",
    "import tensorflow as tf\n",
    "\n",
    "train_ds = tf.data.Dataset.from_tensor_slices((combined_input, labels_train))\n",
    "train_ds = train_ds.shuffle(7292).repeat()\n",
    "train_ds = train_ds.map(augment_image, num_parallel_calls=tf.data.AUTOTUNE)\n",
    "train_ds = train_ds.batch(64).prefetch(tf.data.AUTOTUNE)\n",
    "\n",
    "val_ds = tf.data.Dataset.from_tensor_slices((combined_input_valid, labels_valid))\n",
    "val_ds = val_ds.map(normalize_fn, num_parallel_calls=tf.data.AUTOTUNE)\n",
    "val_ds = val_ds.batch(64).prefetch(tf.data.AUTOTUNE)"
   ]
  },
  {
   "cell_type": "code",
   "execution_count": 15,
   "id": "246346a4-df18-4aac-bcf2-fdee929c7497",
   "metadata": {},
   "outputs": [],
   "source": [
    "# Define the CNN model architecture\n",
    "\n",
    "from tensorflow.keras import models, layers\n",
    "from tensorflow.keras.activations import gelu\n",
    "\n",
    "\n",
    "from tensorflow.keras import layers, models, regularizers\n",
    "from tensorflow.keras.activations import gelu\n",
    "\n",
    "from tensorflow.keras import layers, models, regularizers\n",
    "from tensorflow.keras.activations import gelu\n",
    "from tensorflow.keras.layers import GroupNormalization\n",
    "\n",
    "\n",
    "def se_block(input_tensor, ratio=16):\n",
    "    filters = input_tensor.shape[-1]\n",
    "    se = layers.GlobalAveragePooling2D()(input_tensor)\n",
    "    se = layers.Dense(filters // ratio, activation='relu', kernel_initializer='he_normal')(se)\n",
    "    se = layers.Dense(filters, activation='sigmoid', kernel_initializer='he_normal')(se)\n",
    "    se = layers.Reshape((1, 1, filters))(se)\n",
    "    return layers.Multiply()([input_tensor, se])\n",
    "\n",
    "inputs = layers.Input(shape=(224, 224, 2))\n",
    "\n",
    "x = layers.Conv2D(3, (1, 1), padding='same', use_bias=False, name='channel_mapper')(inputs)\n",
    "\n",
    "\n",
    "x = layers.Conv2D(16, (3, 3), activation=gelu, padding='same',\n",
    "                  kernel_regularizer=regularizers.l2(1e-4))(x)\n",
    "x = layers.BatchNormalization()(x)\n",
    "x = layers.MaxPooling2D(2, 2)(x)\n",
    "\n",
    "\n",
    "x = layers.Conv2D(32, (3, 3), activation=gelu, padding='same',\n",
    "                  kernel_regularizer=regularizers.l2(1e-4))(x)\n",
    "x = layers.BatchNormalization()(x)\n",
    "x = se_block(x)\n",
    "x = layers.MaxPooling2D(2, 2)(x)\n",
    "\n",
    "\n",
    "x = layers.Conv2D(64, (3, 3), activation=gelu, padding='same',\n",
    "                  kernel_regularizer=regularizers.l2(1e-4))(x)\n",
    "x = layers.BatchNormalization()(x)\n",
    "x = se_block(x)\n",
    "x = layers.MaxPooling2D(2, 2)(x)\n",
    "\n",
    "\n",
    "x = layers.Conv2D(128, (3, 3), activation=gelu, padding='same')(x)\n",
    "x = layers.BatchNormalization()(x)\n",
    "x = layers.SpatialDropout2D(0.3)(x)\n",
    "x = se_block(x)\n",
    "x = layers.MaxPooling2D(2, 2)(x)\n",
    "\n",
    "\n",
    "x = layers.SeparableConv2D(256, (3, 3), activation=gelu, padding='same')(x)\n",
    "x = layers.BatchNormalization()(x)\n",
    "x = layers.SpatialDropout2D(0.4)(x)\n",
    "x = se_block(x)\n",
    "x = layers.MaxPooling2D(2, 2)(x)\n",
    "\n",
    "\n",
    "x = layers.Conv2D(256, (3, 3), activation=gelu, padding='same')(x)\n",
    "x = layers.BatchNormalization()(x)\n",
    "x = layers.SpatialDropout2D(0.4)(x)\n",
    "x = se_block(x)\n",
    "x = layers.MaxPooling2D(2, 2)(x)\n",
    "\n",
    "\n",
    "x = layers.GlobalAveragePooling2D()(x)\n",
    "x = layers.Dense(128, activation='swish', kernel_regularizer=regularizers.l2(1e-4))(x)\n",
    "x = layers.BatchNormalization()(x)\n",
    "x = layers.Dropout(0.4)(x)\n",
    "outputs = layers.Dense(1, activation='sigmoid')(x)\n",
    "\n",
    "model_small = models.Model(inputs, outputs)\n"
   ]
  },
  {
   "cell_type": "code",
   "execution_count": 16,
   "id": "85ae4486-e127-432a-9117-01934362e147",
   "metadata": {},
   "outputs": [],
   "source": [
    "# Compile the model and configure class weights and callbacks\n",
    "\n",
    "from tensorflow.keras.callbacks import EarlyStopping\n",
    "from tensorflow.keras.optimizers import AdamW\n",
    "from tensorflow.keras.optimizers.schedules import CosineDecay\n",
    "\n",
    "loss = tf.keras.losses.BinaryCrossentropy()\n",
    "\n",
    "\n",
    "model_small.compile(optimizer = tf.keras.optimizers.Adam(learning_rate=3e-4, clipnorm=1.0),\n",
    "                    loss=loss,\n",
    "                    metrics=['accuracy', 'AUC'])\n",
    "\n",
    "\n",
    "from sklearn.utils import class_weight\n",
    "import numpy as np\n",
    "\n",
    "class_weights = class_weight.compute_class_weight(\n",
    "    class_weight='balanced',\n",
    "    classes=np.unique(labels_train),\n",
    "    y=labels_train\n",
    ")\n",
    "class_weight_dict = dict(enumerate(class_weights))\n",
    "\n",
    "\n",
    "from tensorflow.keras.callbacks import EarlyStopping\n",
    "\n",
    "early_stopping = EarlyStopping(monitor='val_loss', \n",
    "                                patience=3, \n",
    "                                restore_best_weights=True,\n",
    "                                verbose=1)\n",
    "\n",
    "\n",
    "from tensorflow.keras.callbacks import ReduceLROnPlateau\n",
    "\n",
    "lr_scheduler = ReduceLROnPlateau(monitor='val_loss', factor=0.5,\n",
    "                                 patience=2, min_lr=1e-6, verbose=1)"
   ]
  },
  {
   "cell_type": "code",
   "execution_count": 17,
   "id": "7a6a32f3-2c9c-4a70-a669-36369078f03a",
   "metadata": {},
   "outputs": [
    {
     "name": "stdout",
     "output_type": "stream",
     "text": [
      "Epoch 1/20\n"
     ]
    },
    {
     "name": "stderr",
     "output_type": "stream",
     "text": [
      "2025-04-29 14:03:16.789689: I tensorflow/core/grappler/optimizers/custom_graph_optimizer_registry.cc:117] Plugin optimizer for device_type GPU is enabled.\n"
     ]
    },
    {
     "name": "stdout",
     "output_type": "stream",
     "text": [
      "\u001b[1m113/113\u001b[0m \u001b[32m━━━━━━━━━━━━━━━━━━━━\u001b[0m\u001b[37m\u001b[0m \u001b[1m125s\u001b[0m 992ms/step - AUC: 0.7190 - accuracy: 0.6517 - loss: 0.7295 - val_AUC: 0.5000 - val_accuracy: 0.6229 - val_loss: 0.6903 - learning_rate: 3.0000e-04\n",
      "Epoch 2/20\n",
      "\u001b[1m113/113\u001b[0m \u001b[32m━━━━━━━━━━━━━━━━━━━━\u001b[0m\u001b[37m\u001b[0m \u001b[1m123s\u001b[0m 1s/step - AUC: 0.8178 - accuracy: 0.7376 - loss: 0.5721 - val_AUC: 0.7421 - val_accuracy: 0.6229 - val_loss: 0.6848 - learning_rate: 3.0000e-04\n",
      "Epoch 3/20\n",
      "\u001b[1m113/113\u001b[0m \u001b[32m━━━━━━━━━━━━━━━━━━━━\u001b[0m\u001b[37m\u001b[0m \u001b[1m116s\u001b[0m 1s/step - AUC: 0.8407 - accuracy: 0.7707 - loss: 0.5366 - val_AUC: 0.7463 - val_accuracy: 0.6229 - val_loss: 0.6795 - learning_rate: 3.0000e-04\n",
      "Epoch 4/20\n",
      "\u001b[1m113/113\u001b[0m \u001b[32m━━━━━━━━━━━━━━━━━━━━\u001b[0m\u001b[37m\u001b[0m \u001b[1m131s\u001b[0m 1s/step - AUC: 0.8645 - accuracy: 0.7908 - loss: 0.5000 - val_AUC: 0.7659 - val_accuracy: 0.6633 - val_loss: 0.6330 - learning_rate: 3.0000e-04\n",
      "Epoch 5/20\n",
      "\u001b[1m113/113\u001b[0m \u001b[32m━━━━━━━━━━━━━━━━━━━━\u001b[0m\u001b[37m\u001b[0m \u001b[1m120s\u001b[0m 1s/step - AUC: 0.8712 - accuracy: 0.8024 - loss: 0.4865 - val_AUC: 0.7936 - val_accuracy: 0.6306 - val_loss: 0.6389 - learning_rate: 3.0000e-04\n",
      "Epoch 6/20\n",
      "\u001b[1m113/113\u001b[0m \u001b[32m━━━━━━━━━━━━━━━━━━━━\u001b[0m\u001b[37m\u001b[0m \u001b[1m0s\u001b[0m 1s/step - AUC: 0.8670 - accuracy: 0.7984 - loss: 0.4897\n",
      "Epoch 6: ReduceLROnPlateau reducing learning rate to 0.0001500000071246177.\n",
      "\u001b[1m113/113\u001b[0m \u001b[32m━━━━━━━━━━━━━━━━━━━━\u001b[0m\u001b[37m\u001b[0m \u001b[1m120s\u001b[0m 1s/step - AUC: 0.8670 - accuracy: 0.7984 - loss: 0.4897 - val_AUC: 0.8719 - val_accuracy: 0.5730 - val_loss: 0.9014 - learning_rate: 3.0000e-04\n",
      "Epoch 7/20\n",
      "\u001b[1m113/113\u001b[0m \u001b[32m━━━━━━━━━━━━━━━━━━━━\u001b[0m\u001b[37m\u001b[0m \u001b[1m109s\u001b[0m 968ms/step - AUC: 0.8790 - accuracy: 0.8136 - loss: 0.4657 - val_AUC: 0.8864 - val_accuracy: 0.7350 - val_loss: 0.5869 - learning_rate: 1.5000e-04\n",
      "Epoch 8/20\n",
      "\u001b[1m113/113\u001b[0m \u001b[32m━━━━━━━━━━━━━━━━━━━━\u001b[0m\u001b[37m\u001b[0m \u001b[1m114s\u001b[0m 1s/step - AUC: 0.8854 - accuracy: 0.8142 - loss: 0.4609 - val_AUC: 0.8834 - val_accuracy: 0.6933 - val_loss: 0.7121 - learning_rate: 1.5000e-04\n",
      "Epoch 9/20\n",
      "\u001b[1m113/113\u001b[0m \u001b[32m━━━━━━━━━━━━━━━━━━━━\u001b[0m\u001b[37m\u001b[0m \u001b[1m117s\u001b[0m 1s/step - AUC: 0.8858 - accuracy: 0.8156 - loss: 0.4536 - val_AUC: 0.8882 - val_accuracy: 0.8092 - val_loss: 0.4693 - learning_rate: 1.5000e-04\n",
      "Epoch 10/20\n",
      "\u001b[1m113/113\u001b[0m \u001b[32m━━━━━━━━━━━━━━━━━━━━\u001b[0m\u001b[37m\u001b[0m \u001b[1m116s\u001b[0m 1s/step - AUC: 0.8886 - accuracy: 0.8189 - loss: 0.4509 - val_AUC: 0.8911 - val_accuracy: 0.7900 - val_loss: 0.4810 - learning_rate: 1.5000e-04\n",
      "Epoch 11/20\n",
      "\u001b[1m113/113\u001b[0m \u001b[32m━━━━━━━━━━━━━━━━━━━━\u001b[0m\u001b[37m\u001b[0m \u001b[1m0s\u001b[0m 1s/step - AUC: 0.8874 - accuracy: 0.8165 - loss: 0.4523\n",
      "Epoch 11: ReduceLROnPlateau reducing learning rate to 7.500000356230885e-05.\n",
      "\u001b[1m113/113\u001b[0m \u001b[32m━━━━━━━━━━━━━━━━━━━━\u001b[0m\u001b[37m\u001b[0m \u001b[1m121s\u001b[0m 1s/step - AUC: 0.8874 - accuracy: 0.8165 - loss: 0.4523 - val_AUC: 0.8909 - val_accuracy: 0.7426 - val_loss: 0.5636 - learning_rate: 1.5000e-04\n",
      "Epoch 12/20\n",
      "\u001b[1m113/113\u001b[0m \u001b[32m━━━━━━━━━━━━━━━━━━━━\u001b[0m\u001b[37m\u001b[0m \u001b[1m125s\u001b[0m 1s/step - AUC: 0.8897 - accuracy: 0.8204 - loss: 0.4468 - val_AUC: 0.8922 - val_accuracy: 0.7644 - val_loss: 0.5574 - learning_rate: 7.5000e-05\n",
      "Epoch 12: early stopping\n",
      "Restoring model weights from the end of the best epoch: 9.\n"
     ]
    }
   ],
   "source": [
    "# Train the model\n",
    "\n",
    "history = model_small.fit(train_ds,\n",
    "                validation_data=val_ds,\n",
    "                epochs=20,\n",
    "                steps_per_epoch=7292 // 64,\n",
    "               verbose=True, class_weight=class_weight_dict,  callbacks=[lr_scheduler, early_stopping])"
   ]
  },
  {
   "cell_type": "code",
   "execution_count": 18,
   "id": "ac57bee0-023c-463b-b690-765c05ee04fc",
   "metadata": {},
   "outputs": [],
   "source": [
    "# Prepare the test set\n",
    "\n",
    "x_test = []\n",
    "y_test = []\n",
    "\n",
    "for i in range(1565):\n",
    "    x_test.append(dataset[\"test\"][i][\"image\"])\n",
    "    y_test.append(dataset[\"test\"][i][\"label\"])"
   ]
  },
  {
   "cell_type": "code",
   "execution_count": 19,
   "id": "6710e416-e016-4d51-8046-94e0fb7b9e84",
   "metadata": {},
   "outputs": [],
   "source": [
    "# Apply clahe to the test set\n",
    "\n",
    "new_x_test = []\n",
    "\n",
    "def apply_clahe(image):\n",
    "    image = cv2.cvtColor(image, cv2.COLOR_RGB2BGR)\n",
    "    image_yuv = cv2.cvtColor(image, cv2.COLOR_BGR2YUV)\n",
    "    clahe = cv2.createCLAHE(clipLimit=2.0, tileGridSize=(8,8))\n",
    "    image_yuv[:,:,0] = clahe.apply(image_yuv[:,:,0])\n",
    "    result = cv2.cvtColor(image_yuv, cv2.COLOR_YUV2BGR)\n",
    "    result = cv2.cvtColor(result, cv2.COLOR_BGR2RGB)\n",
    "    return result\n",
    "\n",
    "for image in x_test:\n",
    "    image = np.array(image)\n",
    "    the_image = apply_clahe(image)\n",
    "    new_x_test.append(the_image)"
   ]
  },
  {
   "cell_type": "code",
   "execution_count": 20,
   "id": "54f6a933-de08-420c-861f-03186a920b10",
   "metadata": {},
   "outputs": [],
   "source": [
    "# Split images, apply NDBI, and recombine them (test set)\n",
    "\n",
    "import numpy as np\n",
    "\n",
    "whole_image_list_test = []\n",
    "\n",
    "for image in new_x_test:\n",
    "    image = np.array(image)\n",
    "    h, w, _ = image.shape\n",
    "    mid_h, mid_w = h // 2, w // 2\n",
    "    top_left = image[0:mid_h, 0:mid_w]\n",
    "    top_right = image[0:mid_h, mid_w:w]\n",
    "    bottom_left = image[mid_h:h, 0:mid_w]\n",
    "    bottom_right = image[mid_h:h, mid_w:w]\n",
    "    whole_image = [top_left, top_right, bottom_left, bottom_right]\n",
    "    whole_image_list_test.append(whole_image)\n",
    "\n",
    "\n",
    "NDBI_list_test = []\n",
    "whole_NDBI_list_test = []\n",
    "\n",
    "for image in whole_image_list_test:\n",
    "    NDBI_list_test = []\n",
    "    for quadrant in image:\n",
    "        quadrant = quadrant / 255.0\n",
    "        Red = quadrant[:,:,0]\n",
    "        Green = quadrant[:,:,1]\n",
    "        Blue = quadrant[:,:,2]\n",
    "        NDBI = (Red - Blue) / (Red + Blue + 1e-6)\n",
    "        NDBI = np.clip(NDBI, -1, 1)\n",
    "        NDBI_list_test.append(NDBI)\n",
    "    whole_NDBI_list_test.append(NDBI_list_test)\n",
    "\n",
    "\n",
    "recombined_images_test = []\n",
    "i = 0\n",
    "\n",
    "for result in whole_NDBI_list_test:\n",
    "    top_left = result[0]\n",
    "    top_right = result[1]\n",
    "    bottom_left = result[2]\n",
    "    bottom_right = result[3]\n",
    "    top = np.hstack((top_left, top_right))\n",
    "    bottom = np.hstack((bottom_left, bottom_right))\n",
    "    merged_image = np.vstack((top, bottom))\n",
    "    recombined_images_test.append(merged_image)"
   ]
  },
  {
   "cell_type": "code",
   "execution_count": 21,
   "id": "4b438ee1-59e8-40c9-a5d0-401aa5f22241",
   "metadata": {},
   "outputs": [],
   "source": [
    "# Apply KMeans clustering to the test set\n",
    "\n",
    "from sklearn.cluster import KMeans\n",
    "\n",
    "KMeans_label_list_test = []\n",
    "\n",
    "for image in recombined_images_test:\n",
    "    image_flat = image.reshape((-1, 1))\n",
    "    kmeans = KMeans(n_clusters=6, random_state=0, n_init='auto')\n",
    "    labels = kmeans.fit_predict(image_flat)\n",
    "    labels = labels.reshape(image.shape)\n",
    "    cluster_centers = kmeans.cluster_centers_.flatten()\n",
    "    clustered_img = np.take(cluster_centers, labels)\n",
    "    clustered_img = clustered_img - np.min(clustered_img)\n",
    "    clustered_img = clustered_img / (np.max(clustered_img) + 1e-7)\n",
    "    KMeans_label_list_test.append(clustered_img)"
   ]
  },
  {
   "cell_type": "code",
   "execution_count": 22,
   "id": "628bc910-5c79-4dd8-92c9-938eae029c00",
   "metadata": {},
   "outputs": [],
   "source": [
    "# Apply Gaussian Blur to the test set (for smoothing)\n",
    "\n",
    "KMeans_label_list_test = [cv2.GaussianBlur(img, (5, 5), 0.5) for img in KMeans_label_list_test]"
   ]
  },
  {
   "cell_type": "code",
   "execution_count": 23,
   "id": "89c671b1-9109-4765-86bb-5eabaa7e0263",
   "metadata": {},
   "outputs": [],
   "source": [
    "# Concatenate recombined images and KMeans label arrays (test set)\n",
    "\n",
    "recombined_images_orig_test = np.expand_dims(recombined_images_test, axis=-1)\n",
    "\n",
    "recombined_images_kmeans_test = np.expand_dims(KMeans_label_list_test, axis=-1)\n",
    "\n",
    "recombined_images_orig_test = recombined_images_orig_test.astype('float32')\n",
    "\n",
    "recombined_images_orig_test = (recombined_images_orig_test + 1) / 2.0\n",
    "\n",
    "recombined_images_kmeans_test = recombined_images_kmeans_test.astype('float32')\n",
    "\n",
    "combined_input_test = np.concatenate([recombined_images_orig_test, recombined_images_kmeans_test], axis=-1)\n",
    "\n",
    "labels_test = np.array(y_test).astype('float32')"
   ]
  },
  {
   "cell_type": "code",
   "execution_count": 24,
   "id": "e14c880f-7e3e-4fc4-a90a-5eaed64bb5f5",
   "metadata": {},
   "outputs": [],
   "source": [
    "# Prepare the test set for CNN input\n",
    "\n",
    "test_ds = tf.data.Dataset.from_tensor_slices((combined_input_test, labels_test))\n",
    "test_ds = test_ds.map(normalize_fn, num_parallel_calls=tf.data.AUTOTUNE)\n",
    "test_ds = test_ds.batch(64).prefetch(tf.data.AUTOTUNE)"
   ]
  },
  {
   "cell_type": "code",
   "execution_count": 25,
   "id": "7f4d5def-f649-4ff9-848a-13c9015cbc7b",
   "metadata": {},
   "outputs": [
    {
     "name": "stdout",
     "output_type": "stream",
     "text": [
      "Test accuracy: 0.8249\n"
     ]
    }
   ],
   "source": [
    "# Evaluate test set accuracy\n",
    "\n",
    "loss, accuracy, AUC = model_small.evaluate(test_ds, verbose=0)\n",
    "print(f'Test accuracy: {accuracy:.4f}')"
   ]
  },
  {
   "cell_type": "code",
   "execution_count": 26,
   "id": "9657c2cd-62b1-4ddf-a882-b71bfba7283d",
   "metadata": {},
   "outputs": [
    {
     "name": "stdout",
     "output_type": "stream",
     "text": [
      "\u001b[1m49/49\u001b[0m \u001b[32m━━━━━━━━━━━━━━━━━━━━\u001b[0m\u001b[37m\u001b[0m \u001b[1m5s\u001b[0m 84ms/step\n"
     ]
    },
    {
     "data": {
      "image/png": "[encoded data removed]",
      "text/plain": [
       "<Figure size 640x480 with 2 Axes>"
      ]
     },
     "metadata": {},
     "output_type": "display_data"
    }
   ],
   "source": [
    "# Generate confusion matrix for test set\n",
    "\n",
    "from sklearn.metrics import confusion_matrix, ConfusionMatrixDisplay\n",
    "import numpy as np\n",
    "import matplotlib.pyplot as plt\n",
    "\n",
    "labels = [\"CORAL\", \"CORAL_BL\"]\n",
    "y_pred_probs = model_small.predict(combined_input_test)\n",
    "y_pred = (y_pred_probs > 0.5).astype(\"int32\")\n",
    "cm = confusion_matrix(labels_test, y_pred)\n",
    "cmd = ConfusionMatrixDisplay(confusion_matrix=cm, display_labels=labels)\n",
    "cmd.plot()\n",
    "plt.title(\"Confusion Matrix (Test Set)\")\n",
    "plt.show()"
   ]
  },
  {
   "cell_type": "code",
   "execution_count": 27,
   "id": "a863256b-0f6a-45bd-a114-1c2892b3c48b",
   "metadata": {},
   "outputs": [
    {
     "name": "stdout",
     "output_type": "stream",
     "text": [
      "Classification Report (Test Set) : \n",
      "\n",
      "              precision    recall  f1-score   support\n",
      "\n",
      "       CORAL       0.91      0.79      0.85       974\n",
      "    CORAL_BL       0.72      0.87      0.79       591\n",
      "\n",
      "    accuracy                           0.82      1565\n",
      "   macro avg       0.82      0.83      0.82      1565\n",
      "weighted avg       0.84      0.82      0.83      1565\n",
      "\n"
     ]
    }
   ],
   "source": [
    "# Generate classification report for test set\n",
    "\n",
    "from sklearn.metrics import classification_report\n",
    "labels = [\"CORAL\", \"CORAL_BL\"]\n",
    "report = classification_report(labels_test, y_pred, target_names=labels)\n",
    "print(\"Classification Report (Test Set) : \\n\")\n",
    "print(report)"
   ]
  },
  {
   "cell_type": "code",
   "execution_count": null,
   "id": "6e97ba9c-65db-4804-a677-55debc9023d7",
   "metadata": {},
   "outputs": [],
   "source": []
  }
 ],
 "metadata": {
  "kernelspec": {
   "display_name": "Python 3 (ipykernel)",
   "language": "python",
   "name": "python3"
  },
  "language_info": {
   "codemirror_mode": {
    "name": "ipython",
    "version": 3
   },
   "file_extension": ".py",
   "mimetype": "text/x-python",
   "name": "python",
   "nbconvert_exporter": "python",
   "pygments_lexer": "ipython3",
   "version": "3.12.4"
  }
 },
 "nbformat": 4,
 "nbformat_minor": 5
}
